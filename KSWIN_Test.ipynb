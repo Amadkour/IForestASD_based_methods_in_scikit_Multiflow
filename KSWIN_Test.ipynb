{
 "cells": [
  {
   "cell_type": "markdown",
   "metadata": {},
   "source": [
    "# Test the KSWIN function to detect drift in stream"
   ]
  },
  {
   "cell_type": "markdown",
   "metadata": {},
   "source": [
    "This is to test if KSWIN is really good in drift detection, if yes we can apply it on IForest ASD to detect drift in windows in order to update the moel if neccessary"
   ]
  },
  {
   "cell_type": "markdown",
   "metadata": {},
   "source": [
    "## Install skmultiflow if needed\n",
    "You need to install git"
   ]
  },
  {
   "cell_type": "code",
   "execution_count": 62,
   "metadata": {},
   "outputs": [],
   "source": [
    "#print(\"scikit-multiflow package installation\")\n",
    "#!pip install -U git+https://github.com/scikit-multiflow/scikit-multiflow"
   ]
  },
  {
   "cell_type": "code",
   "execution_count": 63,
   "metadata": {},
   "outputs": [],
   "source": [
    "try:\n",
    "    import skmultiflow\n",
    "except ImportError as e:\n",
    "    print(\"scikit-multiflow package installation\")\n",
    "    !pip install -U git+https://github.com/scikit-multiflow/scikit-multiflow"
   ]
  },
  {
   "cell_type": "markdown",
   "metadata": {},
   "source": [
    "## Importations and configurations"
   ]
  },
  {
   "cell_type": "code",
   "execution_count": 64,
   "metadata": {},
   "outputs": [],
   "source": [
    "%matplotlib notebook\n",
    "import matplotlib as plt\n",
    "plt.interactive(True)\n",
    "from source import functions\n",
    "func = functions.Comparison()\n",
    "import datetime\n",
    "#from skmultiflow.data import AnomalySineGenerator"
   ]
  },
  {
   "cell_type": "markdown",
   "metadata": {},
   "source": [
    "## General parameters for the evaluation"
   ]
  },
  {
   "cell_type": "markdown",
   "metadata": {},
   "source": [
    "## Execution Function\n",
    "https://github.com/scikit-multiflow/scikit-multiflow/blob/master/src/skmultiflow/drift_detection/kswin.py"
   ]
  },
  {
   "cell_type": "code",
   "execution_count": 68,
   "metadata": {},
   "outputs": [],
   "source": [
    "#************************ Execution settings *******************************\n",
    "\n",
    "window = 100 # Number of sample in one window, window size.\n",
    "max_sample = 10000 # Total size of data to examine (windows number = max_sample/window)\n",
    "window_number = int(max_sample/window) # The number of window to save on .csv file\n"
   ]
  },
  {
   "cell_type": "code",
   "execution_count": 108,
   "metadata": {},
   "outputs": [],
   "source": [
    "def execute_comparision(stream, window_size=100, window_number=1000):\n",
    "    from skmultiflow.drift_detection import KSWIN\n",
    "    import pandas as pd\n",
    "    import numpy as np\n",
    "    # Initialize KSWIN and a data stream\n",
    "    first_window = stream.next_sample(window_size)[0][:,0]\n",
    "    #print(first_window)\n",
    "    kswin = KSWIN(alpha=0.01, data=first_window)\n",
    "    # Store detections\n",
    "    detections = []\n",
    "    # Process stream via KSWIN and print detections\n",
    "    for i in range(window_number-1):\n",
    "        #data = stream.next_sample(window_size)\n",
    "        data = stream.next_sample(window_size)\n",
    "        #print(data)\n",
    "        #print(data[0][:,0])\n",
    "        batch = data[0][0][0]\n",
    "        #X = pd.DataFrame(data)\n",
    "        #batch = np.ndarray(X)\n",
    "        #batch = data[0][0][0]\n",
    "        #print(batch)\n",
    "        #n_features = data[0].shape[1]\n",
    "        #print(\"n_features == \"+str(n_features))\n",
    "        #if n_features==4:\n",
    "        #    batch = data[0][0][0][0]\n",
    "        #elif n_features == 2:\n",
    "        #    batch = data[0][0]\n",
    "        #elif n_features == 1:\n",
    "        #    batch = data[0]\n",
    "        #else: #It will work for n_features == 3\n",
    "        #    batch = data[0][0][0]\n",
    "        #print(batch)\n",
    "        kswin.add_element(batch)\n",
    "        if kswin.detected_change():\n",
    "            print(\"\\rIteration {}\".format(i))\n",
    "            #print(\"\\r KSWINReject Null Hyptheses\")\n",
    "            detections.append(i)\n",
    "    print(\"Number of detections: \"+str(len(detections)))"
   ]
  },
  {
   "cell_type": "markdown",
   "metadata": {},
   "source": [
    "## Applied On Simple Stream Dataset\n"
   ]
  },
  {
   "cell_type": "code",
   "execution_count": 109,
   "metadata": {
    "scrolled": false
   },
   "outputs": [
    {
     "name": "stdout",
     "output_type": "stream",
     "text": [
      "\r",
      "Iteration 42\n",
      "Number of detections: 1\n"
     ]
    }
   ],
   "source": [
    "dataset_name = \"Generator\"\n",
    "test_name = dataset_name+'_'+str(datetime.datetime.now())\n",
    "\n",
    "stream = func.get_dataset(dataset_name=dataset_name, classification_function=0,noise_percentage=0.0, random_state=1)\n",
    "\n",
    "execute_comparision(stream=stream, window_size=window, window_number=window_number)"
   ]
  },
  {
   "cell_type": "markdown",
   "metadata": {},
   "source": [
    "## Applied On Stream data containning anomalies"
   ]
  },
  {
   "cell_type": "code",
   "execution_count": 110,
   "metadata": {},
   "outputs": [
    {
     "name": "stdout",
     "output_type": "stream",
     "text": [
      "\r",
      "Iteration 16\n",
      "\r",
      "Iteration 92\n",
      "Number of detections: 2\n"
     ]
    }
   ],
   "source": [
    "dataset_name = \"AnomalySineGenerator\"\n",
    "test_name = dataset_name+'_'+str(datetime.datetime.now())\n",
    "\n",
    "anomalies_percentage = 0.1\n",
    "n_anomalies= int(max_sample*anomalies_percentage)\n",
    "#print(str(n_anomalies))\n",
    "stream = func.get_anomalies_data_generated(n_samples=max_sample, n_anomalies=n_anomalies, contextual=False,\n",
    "                 n_contextual=0.0, shift=4, noise=0.0, replace=True, random_state=None)\n",
    "\n",
    "execute_comparision(stream=stream, window_size=window, window_number=window_number)"
   ]
  },
  {
   "cell_type": "markdown",
   "metadata": {},
   "source": [
    "## Applied On Simple ConceptDrift Stream Dataset"
   ]
  },
  {
   "cell_type": "code",
   "execution_count": 111,
   "metadata": {
    "scrolled": false
   },
   "outputs": [
    {
     "name": "stdout",
     "output_type": "stream",
     "text": [
      "Number of detections: 0\n"
     ]
    }
   ],
   "source": [
    "dataset_name = \"DriftStreamGenerator\"\n",
    "test_name = dataset_name+'_'+str(datetime.datetime.now())\n",
    "#drift_rate = 0.7\n",
    "stream = func.get_dataset(dataset_name=dataset_name, classification_function=0, noise_percentage=0.0, random_state=1,\n",
    "                         drift_classification_function = 3, drift_random_state = 112, drift_noise_percentage = 0.0,\n",
    "                          drift_start_position = 110, drift_width = 50, n_num_features = 2, n_cat_features = 0)\n",
    "\n",
    "execute_comparision(stream=stream, window_size=window, window_number=window_number)"
   ]
  },
  {
   "cell_type": "code",
   "execution_count": null,
   "metadata": {},
   "outputs": [],
   "source": []
  }
 ],
 "metadata": {
  "kernelspec": {
   "display_name": "Python 3",
   "language": "python",
   "name": "python3"
  },
  "language_info": {
   "codemirror_mode": {
    "name": "ipython",
    "version": 3
   },
   "file_extension": ".py",
   "mimetype": "text/x-python",
   "name": "python",
   "nbconvert_exporter": "python",
   "pygments_lexer": "ipython3",
   "version": "3.7.4"
  }
 },
 "nbformat": 4,
 "nbformat_minor": 2
}
