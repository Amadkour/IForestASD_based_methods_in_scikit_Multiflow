{
 "cells": [
  {
   "cell_type": "markdown",
   "metadata": {},
   "source": [
    "# Test the KSWIN function to detect drift in stream"
   ]
  },
  {
   "cell_type": "markdown",
   "metadata": {},
   "source": [
    "This is to test if KSWIN is really good in drift detection, if yes we can apply it on IForest ASD to detect drift in windows in order to update the moel if neccessary"
   ]
  },
  {
   "cell_type": "markdown",
   "metadata": {},
   "source": [
    "## Install skmultiflow if needed\n",
    "You need to install git"
   ]
  },
  {
   "cell_type": "code",
   "execution_count": 1,
   "metadata": {},
   "outputs": [],
   "source": [
    "#print(\"scikit-multiflow package installation\")\n",
    "#!pip install -U git+https://github.com/scikit-multiflow/scikit-multiflow"
   ]
  },
  {
   "cell_type": "code",
   "execution_count": 2,
   "metadata": {},
   "outputs": [],
   "source": [
    "try:\n",
    "    import skmultiflow\n",
    "except ImportError as e:\n",
    "    print(\"scikit-multiflow package installation\")\n",
    "    !pip install -U git+https://github.com/scikit-multiflow/scikit-multiflow"
   ]
  },
  {
   "cell_type": "markdown",
   "metadata": {},
   "source": [
    "## Importations and configurations"
   ]
  },
  {
   "cell_type": "code",
   "execution_count": 3,
   "metadata": {},
   "outputs": [],
   "source": [
    "%matplotlib notebook\n",
    "import matplotlib as plt\n",
    "plt.interactive(True)\n",
    "from source import functions\n",
    "func = functions.Comparison()\n",
    "from source import ndkswin as ndk\n",
    "import datetime\n",
    "import copy"
   ]
  },
  {
   "cell_type": "markdown",
   "metadata": {},
   "source": [
    "## General parameters for the evaluation"
   ]
  },
  {
   "cell_type": "markdown",
   "metadata": {},
   "source": [
    "## Execution Function\n",
    "https://github.com/scikit-multiflow/scikit-multiflow/blob/master/src/skmultiflow/drift_detection/kswin.py\n",
    "https://docs.scipy.org/doc/scipy/reference/generated/scipy.stats.ks_2samp.html"
   ]
  },
  {
   "cell_type": "code",
   "execution_count": 4,
   "metadata": {},
   "outputs": [],
   "source": [
    "#************************ Execution settings *******************************\n",
    "\n",
    "window = 100 # Number of sample in one window, window size.\n",
    "max_sample = 10000 # Total size of data to examine (windows number = max_sample/window)\n",
    "window_number = int(max_sample/window) # The number of window to save on .csv file\n",
    "#window_number = 3 # The number of window to save on .csv file\n"
   ]
  },
  {
   "cell_type": "code",
   "execution_count": 5,
   "metadata": {},
   "outputs": [],
   "source": [
    "def execute_KSWIN(stream, window_size=100, window_number=1000):\n",
    "    from skmultiflow.drift_detection import KSWIN\n",
    "    import pandas as pd\n",
    "    import numpy as np\n",
    "    # Initialize KSWIN and a data stream\n",
    "    first_window = stream.next_sample(window_size)[0][:,0]\n",
    "    #print(first_window)\n",
    "    kswin = KSWIN(alpha=0.01, data=first_window)\n",
    "    # Store detections\n",
    "    detections = []\n",
    "    # Process stream via KSWIN and print detections\n",
    "    for i in range(window_number-1):\n",
    "        data = stream.next_sample(window_size)\n",
    "        batch = data[0][0][0]\n",
    "        kswin.add_element(batch)\n",
    "        if kswin.detected_change():\n",
    "            #print(\"\\rIteration {}\".format(i))\n",
    "            #print(\"\\r KSWINReject Null Hyptheses\")\n",
    "            detections.append(i)\n",
    "            kswin.reset()\n",
    "            kswin = KSWIN(alpha=0.01, data=data[0][:,0])\n",
    "    print(\"Drift detected in window n° \"+str(detections))\n",
    "    print(\"Number of detections: \"+str(len(detections)))"
   ]
  },
  {
   "cell_type": "code",
   "execution_count": 6,
   "metadata": {},
   "outputs": [],
   "source": [
    "def execute_NDKSWIN(stream, window_size=100, window_number=1000, n_dimensions=1, \n",
    "                    n_tested_samples=0.1, fixed_checked_dimension = True, fixed_checked_sample=True):\n",
    "    #from skmultiflow.drift_detection import KSWIN\n",
    "    import pandas as pd\n",
    "    import numpy as np\n",
    "    # Initialize KSWIN and a data stream\n",
    "    #first_window = stream.next_sample(window_size)[0][:,0]\n",
    "    first_window = stream.next_sample(window_size)[0]\n",
    "    #print(first_window)\n",
    "    #print(type(first_window))\n",
    "    #ndkswin = ndk.NDKSWIN(alpha=0.01, data=first_window, n_dimensions=1, n_tested_samples=(1/window_size),\n",
    "    #                      fixed_checked_dimension = True, fixed_checked_sample=True)\n",
    "    ndkswin = ndk.NDKSWIN(alpha=0.01, data=first_window, n_dimensions=n_dimensions, n_tested_samples=n_tested_samples,\n",
    "                          fixed_checked_dimension = fixed_checked_dimension, fixed_checked_sample=fixed_checked_sample)\n",
    "    # Store detections\n",
    "    detections = []\n",
    "    # Process stream via KSWIN and print detections\n",
    "    for i in range(window_number-1):\n",
    "        #data = stream.next_sample(window_size)\n",
    "        data = stream.next_sample(window_size)\n",
    "        batch = data[0]\n",
    "        ndkswin.add_element(batch)\n",
    "        if ndkswin.detected_change():\n",
    "            #print(\"\\rIteration {}\".format(i))\n",
    "            #print(\"\\r KSWINReject Null Hyptheses\")\n",
    "            detections.append(i)\n",
    "            #ndkswin.reset()\n",
    "            #ndkswin = ndk.NDKSWIN(alpha=0.01, data=batch, n_dimensions=1, n_tested_samples=0.1,\n",
    "            #              fixed_checked_dimension = True, fixed_checked_sample=True)\n",
    "    print(\"Drift detected in window n° \"+str(detections))\n",
    "    print(\"Number of detections: \"+str(len(detections)))"
   ]
  },
  {
   "cell_type": "code",
   "execution_count": 7,
   "metadata": {},
   "outputs": [],
   "source": [
    "def execute(file_path, n_dimensions, n_tested_samples):\n",
    "    \n",
    "    stream, stream2, stream3, stream4, stream5, stream6 = func.get_file_stream6(path=file_path)\n",
    "    \n",
    "    print(\"********************************** KSWIN Execution*********************************\")\n",
    "    execute_KSWIN(stream=stream, window_size=window, window_number=window_number)\n",
    "    print(\"********************************** NDKSWIN Execution similar to KSWIN*********************************\")\n",
    "    execute_NDKSWIN(stream=stream2, window_size=window, window_number=window_number, n_dimensions=1, \n",
    "                        n_tested_samples=(1/window), fixed_checked_dimension = True, fixed_checked_sample=True)\n",
    "    print(\"********************************** NDKSWIN Execution Fixe*********************************\")\n",
    "    execute_NDKSWIN(stream=stream3, window_size=window, window_number=window_number, n_dimensions=n_dimensions, \n",
    "                        n_tested_samples=n_tested_samples, fixed_checked_dimension = True, fixed_checked_sample=True)\n",
    "    print(\"********************************** NDKSWIN Execution Random sample*********************************\")\n",
    "    execute_NDKSWIN(stream=stream4, window_size=window, window_number=window_number, n_dimensions=n_dimensions, \n",
    "                        n_tested_samples=n_tested_samples, fixed_checked_dimension = True, fixed_checked_sample=False)\n",
    "    print(\"********************************** NDKSWIN Execution Random dimension*********************************\")\n",
    "    execute_NDKSWIN(stream=stream5, window_size=window, window_number=window_number, n_dimensions=n_dimensions, \n",
    "                        n_tested_samples=n_tested_samples, fixed_checked_dimension = False, fixed_checked_sample=True)\n",
    "    print(\"********************************** NDKSWIN Execution Full Random*********************************\")\n",
    "    execute_NDKSWIN(stream=stream6, window_size=window, window_number=window_number, n_dimensions=n_dimensions, \n",
    "                        n_tested_samples=n_tested_samples, fixed_checked_dimension = False, fixed_checked_sample=False)"
   ]
  },
  {
   "cell_type": "markdown",
   "metadata": {},
   "source": [
    "## Applied On Simple Stream Dataset\n"
   ]
  },
  {
   "cell_type": "code",
   "execution_count": 8,
   "metadata": {
    "scrolled": false
   },
   "outputs": [
    {
     "name": "stdout",
     "output_type": "stream",
     "text": [
      "\n",
      "Please find the data used on results/Generator_2020-12-03 14:04:59.673295/Generator_2020-12-03 14:04:59.673295_dataUsed.csv\n",
      "********************************** KSWIN Execution*********************************\n",
      "Drift detected in window n° []\n",
      "Number of detections: 0\n",
      "********************************** NDKSWIN Execution similar to KSWIN*********************************\n",
      "Drift detected in window n° []\n",
      "Number of detections: 0\n",
      "********************************** NDKSWIN Execution Fixe*********************************\n",
      "Drift detected in window n° [28, 59, 69, 82, 93]\n",
      "Number of detections: 5\n",
      "********************************** NDKSWIN Execution Random sample*********************************\n",
      "Drift detected in window n° [8, 25, 44, 53, 92]\n",
      "Number of detections: 5\n",
      "********************************** NDKSWIN Execution Random dimension*********************************\n",
      "Drift detected in window n° [7, 41, 53, 65, 86]\n",
      "Number of detections: 5\n",
      "********************************** NDKSWIN Execution Full Random*********************************\n",
      "Drift detected in window n° [7, 14, 21, 40, 49, 60, 72, 83]\n",
      "Number of detections: 8\n"
     ]
    }
   ],
   "source": [
    "dataset_name = \"Generator\"\n",
    "test_name = dataset_name+'_'+str(datetime.datetime.now())\n",
    "\n",
    "stream = func.get_dataset(dataset_name=dataset_name, classification_function=0,noise_percentage=0.0, random_state=1)\n",
    "\n",
    "file_path = func.save_stream_data_generated(stream=stream, window = window, result_folder=test_name, \n",
    "                                                 window_number = window_number)\n",
    "n_dimensions = int(3/2)\n",
    "n_tested_samples = 0.1\n",
    "\n",
    "execute(file_path=file_path, n_dimensions=n_dimensions, n_tested_samples=n_tested_samples)"
   ]
  },
  {
   "cell_type": "markdown",
   "metadata": {},
   "source": [
    "## Applied On Stream data containning anomalies"
   ]
  },
  {
   "cell_type": "code",
   "execution_count": 9,
   "metadata": {},
   "outputs": [
    {
     "name": "stdout",
     "output_type": "stream",
     "text": [
      "\n",
      "Please find the data used on results/AnomalySineGenerator_2020-12-03 14:05:02.071143/AnomalySineGenerator_2020-12-03 14:05:02.071143_dataUsed.csv\n",
      "********************************** KSWIN Execution*********************************\n",
      "Drift detected in window n° [12, 49, 67, 83, 85]\n",
      "Number of detections: 5\n",
      "********************************** NDKSWIN Execution similar to KSWIN*********************************\n",
      "Drift detected in window n° [11, 86]\n",
      "Number of detections: 2\n",
      "********************************** NDKSWIN Execution Fixe*********************************\n",
      "Drift detected in window n° [2, 10, 18, 28, 36, 44, 53, 60, 68, 78, 86]\n",
      "Number of detections: 11\n",
      "********************************** NDKSWIN Execution Random sample*********************************\n",
      "Drift detected in window n° [15, 39, 78]\n",
      "Number of detections: 3\n",
      "********************************** NDKSWIN Execution Random dimension*********************************\n",
      "Drift detected in window n° [3, 11, 19, 28, 36, 45, 53, 62, 70, 77, 85, 92]\n",
      "Number of detections: 12\n",
      "********************************** NDKSWIN Execution Full Random*********************************\n",
      "Drift detected in window n° [10, 19, 36, 51, 59, 69, 89, 97]\n",
      "Number of detections: 8\n"
     ]
    }
   ],
   "source": [
    "dataset_name = \"AnomalySineGenerator\"\n",
    "test_name = dataset_name+'_'+str(datetime.datetime.now())\n",
    "\n",
    "anomalies_percentage = 0.1\n",
    "n_anomalies= int(max_sample*anomalies_percentage)\n",
    "#print(str(n_anomalies))\n",
    "stream = func.get_anomalies_data_generated(n_samples=max_sample, n_anomalies=n_anomalies, contextual=False,\n",
    "                 n_contextual=0.0, shift=4, noise=0.0, replace=True, random_state=None)\n",
    "\n",
    "file_path = func.save_stream_data_generated(stream=stream, window = window, result_folder=test_name, \n",
    "                                                 window_number = window_number)\n",
    "n_dimensions = int(2/2)\n",
    "n_tested_samples = 0.1\n",
    "\n",
    "execute(file_path=file_path, n_dimensions=n_dimensions, n_tested_samples=n_tested_samples)"
   ]
  },
  {
   "cell_type": "markdown",
   "metadata": {},
   "source": [
    "## Applied On Simple ConceptDrift Stream Dataset"
   ]
  },
  {
   "cell_type": "code",
   "execution_count": 11,
   "metadata": {
    "scrolled": true
   },
   "outputs": [
    {
     "name": "stdout",
     "output_type": "stream",
     "text": [
      "\n",
      "Please find the data used on results/DriftStreamGenerator_2020-12-03 14:06:50.769518/DriftStreamGenerator_2020-12-03 14:06:50.769518_dataUsed.csv\n",
      "********************************** KSWIN Execution*********************************\n",
      "Drift detected in window n° []\n",
      "Number of detections: 0\n",
      "********************************** NDKSWIN Execution similar to KSWIN*********************************\n",
      "Drift detected in window n° []\n",
      "Number of detections: 0\n",
      "********************************** NDKSWIN Execution Fixe*********************************\n",
      "Drift detected in window n° [2, 10, 19, 30, 38, 53, 73, 88]\n",
      "Number of detections: 8\n",
      "********************************** NDKSWIN Execution Random sample*********************************\n",
      "Drift detected in window n° [2, 20, 28, 36, 44, 56, 68, 79, 98]\n",
      "Number of detections: 9\n",
      "********************************** NDKSWIN Execution Random dimension*********************************\n",
      "Drift detected in window n° [3, 11, 20, 29, 39, 53, 65, 74, 88]\n",
      "Number of detections: 9\n",
      "********************************** NDKSWIN Execution Full Random*********************************\n",
      "Drift detected in window n° [1, 10, 23, 31, 39, 47, 61, 69, 77, 84, 92]\n",
      "Number of detections: 11\n"
     ]
    }
   ],
   "source": [
    "dataset_name = \"DriftStreamGenerator\"\n",
    "test_name = dataset_name+'_'+str(datetime.datetime.now())\n",
    "#drift_rate = 0.7\n",
    "stream = func.get_dataset(dataset_name=dataset_name, classification_function=0, noise_percentage=0.0, random_state=1,\n",
    "                         drift_classification_function = 3, drift_random_state = 112, drift_noise_percentage = 0.0,\n",
    "                          drift_start_position = 101, drift_width = 50, n_num_features = 2, n_cat_features = 0)\n",
    "\n",
    "file_path = func.save_stream_data_generated(stream=stream, window = window, result_folder=test_name, \n",
    "                                                 window_number = window_number)\n",
    "n_dimensions = int(9/2)\n",
    "n_tested_samples = 0.1\n",
    "\n",
    "execute(file_path=file_path, n_dimensions=n_dimensions, n_tested_samples=n_tested_samples)"
   ]
  },
  {
   "cell_type": "code",
   "execution_count": null,
   "metadata": {},
   "outputs": [],
   "source": []
  }
 ],
 "metadata": {
  "kernelspec": {
   "display_name": "Python 3",
   "language": "python",
   "name": "python3"
  },
  "language_info": {
   "codemirror_mode": {
    "name": "ipython",
    "version": 3
   },
   "file_extension": ".py",
   "mimetype": "text/x-python",
   "name": "python",
   "nbconvert_exporter": "python",
   "pygments_lexer": "ipython3",
   "version": "3.7.4"
  }
 },
 "nbformat": 4,
 "nbformat_minor": 2
}
