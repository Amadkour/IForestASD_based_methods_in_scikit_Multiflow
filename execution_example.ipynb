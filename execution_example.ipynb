{
 "cells": [
  {
   "cell_type": "markdown",
   "metadata": {},
   "source": [
    "   # An example of how to test our IForestASD Implementation & Compare IForestASD against HSTrees"
   ]
  },
  {
   "cell_type": "markdown",
   "metadata": {},
   "source": [
    "## Install skmultiflow if needed\n",
    "You need to install git"
   ]
  },
  {
   "cell_type": "code",
   "execution_count": 6,
   "metadata": {},
   "outputs": [],
   "source": [
    "try:\n",
    "    import skmultiflow\n",
    "except ImportError as e:\n",
    "    print(\"scikit-multiflow package installation\")\n",
    "    !pip install -U git+https://github.com/scikit-multiflow/scikit-multiflow"
   ]
  },
  {
   "cell_type": "markdown",
   "metadata": {},
   "source": [
    "## Importations and configurations"
   ]
  },
  {
   "cell_type": "code",
   "execution_count": 7,
   "metadata": {},
   "outputs": [],
   "source": [
    "%matplotlib notebook\n",
    "import matplotlib as plt\n",
    "plt.interactive(True)\n",
    "from source import functions\n",
    "func = functions.Comparison()\n",
    "import datetime"
   ]
  },
  {
   "cell_type": "markdown",
   "metadata": {},
   "source": [
    "## Dataset Generation"
   ]
  },
  {
   "cell_type": "code",
   "execution_count": 8,
   "metadata": {},
   "outputs": [],
   "source": [
    "dataset_name = \"Generator\"\n",
    "test_name = dataset_name+'_'+str(datetime.datetime.now())\n",
    "stream = func.get_dataset(dataset_name=dataset_name, classification_function=0,noise_percentage=0.7, random_state=1)"
   ]
  },
  {
   "cell_type": "markdown",
   "metadata": {},
   "source": [
    "## General parameters for the evaluation"
   ]
  },
  {
   "cell_type": "code",
   "execution_count": 9,
   "metadata": {},
   "outputs": [],
   "source": [
    "window = 100 #Number of data in the slinding window\n",
    "n_estimator = 100 #Number of tree in the forest\n",
    "anomaly_threshold = 0.5 #Anomaly detection score threshold\n",
    "max_sample = 500 # We have gotten the size of the min dataset (Shuttle) to evaluate all dataset on the same basis.\n",
    "n_wait = max_sample # The evaluation step size\n",
    "drift_rate = 0.3 #The parameter u for IForestASD for the drift detector\n",
    "\n",
    "# Used metric in the evaluation. Attention to use the metrics availlable in skmultiflow\n",
    "metrics=['accuracy', 'f1', 'precision', 'recall', 'true_vs_predicted', 'kappa', 'kappa_m', 'running_time', 'model_size'] "
   ]
  },
  {
   "cell_type": "markdown",
   "metadata": {},
   "source": [
    "## Run IForestASD and HSTrees on the generated dataset"
   ]
  },
  {
   "cell_type": "code",
   "execution_count": 10,
   "metadata": {},
   "outputs": [
    {
     "ename": "TypeError",
     "evalue": "HalfSpaceTrees.__init__() got an unexpected keyword argument 'n_features'",
     "output_type": "error",
     "traceback": [
      "\u001B[0;31m---------------------------------------------------------------------------\u001B[0m",
      "\u001B[0;31mTypeError\u001B[0m                                 Traceback (most recent call last)",
      "Input \u001B[0;32mIn [10]\u001B[0m, in \u001B[0;36m<cell line: 1>\u001B[0;34m()\u001B[0m\n\u001B[0;32m----> 1\u001B[0m \u001B[43mfunc\u001B[49m\u001B[38;5;241;43m.\u001B[39;49m\u001B[43mrun_comparison\u001B[49m\u001B[43m(\u001B[49m\u001B[43mstream\u001B[49m\u001B[38;5;241;43m=\u001B[39;49m\u001B[43mstream\u001B[49m\u001B[43m,\u001B[49m\u001B[43m \u001B[49m\u001B[43mstream_n_features\u001B[49m\u001B[38;5;241;43m=\u001B[39;49m\u001B[43mstream\u001B[49m\u001B[38;5;241;43m.\u001B[39;49m\u001B[43mn_features\u001B[49m\u001B[43m,\u001B[49m\u001B[43m \u001B[49m\u001B[43mwindow\u001B[49m\u001B[43m \u001B[49m\u001B[38;5;241;43m=\u001B[39;49m\u001B[43m \u001B[49m\u001B[43mwindow\u001B[49m\u001B[43m,\u001B[49m\u001B[43m \u001B[49m\n\u001B[1;32m      2\u001B[0m \u001B[43m                             \u001B[49m\u001B[43mestimators\u001B[49m\u001B[43m \u001B[49m\u001B[38;5;241;43m=\u001B[39;49m\u001B[43m \u001B[49m\u001B[43mn_estimator\u001B[49m\u001B[43m,\u001B[49m\u001B[43m \u001B[49m\u001B[43manomaly\u001B[49m\u001B[43m \u001B[49m\u001B[38;5;241;43m=\u001B[39;49m\u001B[43m \u001B[49m\u001B[43manomaly_threshold\u001B[49m\u001B[43m,\u001B[49m\u001B[43m \u001B[49m\u001B[43mdrift_rate\u001B[49m\u001B[43m \u001B[49m\u001B[38;5;241;43m=\u001B[39;49m\u001B[43m \u001B[49m\u001B[43mdrift_rate\u001B[49m\u001B[43m,\u001B[49m\u001B[43m \u001B[49m\n\u001B[1;32m      3\u001B[0m \u001B[43m                             \u001B[49m\u001B[43mresult_folder\u001B[49m\u001B[38;5;241;43m=\u001B[39;49m\u001B[43mtest_name\u001B[49m\u001B[43m,\u001B[49m\u001B[43m \u001B[49m\u001B[43mmax_sample\u001B[49m\u001B[38;5;241;43m=\u001B[39;49m\u001B[43mmax_sample\u001B[49m\u001B[43m,\u001B[49m\u001B[43m \u001B[49m\u001B[43mn_wait\u001B[49m\u001B[38;5;241;43m=\u001B[39;49m\u001B[43mn_wait\u001B[49m\u001B[43m,\u001B[49m\u001B[43m \u001B[49m\u001B[43mmetrics\u001B[49m\u001B[38;5;241;43m=\u001B[39;49m\u001B[43mmetrics\u001B[49m\u001B[43m)\u001B[49m\n",
      "File \u001B[0;32m~/Documents/PhD/IForestASD_based_methods_in_scikit_Multiflow/source/functions.py:424\u001B[0m, in \u001B[0;36mComparison.run_comparison\u001B[0;34m(self, stream, stream_n_features, window, estimators, anomaly, drift_rate, result_folder, max_sample, n_wait, metrics)\u001B[0m\n\u001B[1;32m    419\u001B[0m result_file_path \u001B[38;5;241m=\u001B[39m directory_path \u001B[38;5;241m+\u001B[39m \u001B[38;5;124m'\u001B[39m\u001B[38;5;124m/result_for_WS\u001B[39m\u001B[38;5;124m'\u001B[39m \u001B[38;5;241m+\u001B[39m \u001B[38;5;28mstr\u001B[39m(window) \u001B[38;5;241m+\u001B[39m \u001B[38;5;124m'\u001B[39m\u001B[38;5;124m_NE\u001B[39m\u001B[38;5;124m'\u001B[39m \u001B[38;5;241m+\u001B[39m \u001B[38;5;28mstr\u001B[39m(estimators) \u001B[38;5;241m+\u001B[39m \u001B[38;5;124m'\u001B[39m\u001B[38;5;124m.csv\u001B[39m\u001B[38;5;124m'\u001B[39m\n\u001B[1;32m    421\u001B[0m \u001B[38;5;66;03m# 2. Prepare for use This function is usefull to have data window by window\u001B[39;00m\n\u001B[1;32m    422\u001B[0m \u001B[38;5;66;03m# stream.prepare_for_use() # Deprecated so how to prepare data?\u001B[39;00m\n\u001B[0;32m--> 424\u001B[0m models \u001B[38;5;241m=\u001B[39m [\u001B[43mHalfSpaceTrees\u001B[49m\u001B[43m(\u001B[49m\u001B[43mn_features\u001B[49m\u001B[38;5;241;43m=\u001B[39;49m\u001B[43mstream_n_features\u001B[49m\u001B[43m,\u001B[49m\u001B[43m \u001B[49m\u001B[43mwindow_size\u001B[49m\u001B[38;5;241;43m=\u001B[39;49m\u001B[43mwindow\u001B[49m\u001B[43m,\u001B[49m\n\u001B[1;32m    425\u001B[0m \u001B[43m                         \u001B[49m\u001B[43mn_estimators\u001B[49m\u001B[38;5;241;43m=\u001B[39;49m\u001B[43mestimators\u001B[49m\u001B[43m,\u001B[49m\u001B[43m \u001B[49m\u001B[43manomaly_threshold\u001B[49m\u001B[38;5;241;43m=\u001B[39;49m\u001B[43manomaly\u001B[49m\u001B[43m)\u001B[49m,\n\u001B[1;32m    426\u001B[0m           \u001B[38;5;66;03m# IForest ASD use all the window_size for the sample in the training phase\u001B[39;00m\n\u001B[1;32m    427\u001B[0m           IsolationForestStream(window_size\u001B[38;5;241m=\u001B[39mwindow, n_estimators\u001B[38;5;241m=\u001B[39mestimators,\n\u001B[1;32m    428\u001B[0m                                 anomaly_threshold\u001B[38;5;241m=\u001B[39manomaly, drift_threshold\u001B[38;5;241m=\u001B[39mdrift_rate)]\n\u001B[1;32m    429\u001B[0m \u001B[38;5;66;03m# Setup the evaluator\u001B[39;00m\n\u001B[1;32m    430\u001B[0m evaluator \u001B[38;5;241m=\u001B[39m EvaluatePrequential(pretrain_size\u001B[38;5;241m=\u001B[39m\u001B[38;5;241m1\u001B[39m, max_samples\u001B[38;5;241m=\u001B[39mmax_sample,\n\u001B[1;32m    431\u001B[0m                                 show_plot\u001B[38;5;241m=\u001B[39m\u001B[38;5;28;01mTrue\u001B[39;00m,\n\u001B[1;32m    432\u001B[0m                                 metrics\u001B[38;5;241m=\u001B[39mmetrics, batch_size\u001B[38;5;241m=\u001B[39m\u001B[38;5;241m1\u001B[39m,\n\u001B[1;32m    433\u001B[0m                                 output_file\u001B[38;5;241m=\u001B[39mresult_file_path,\n\u001B[1;32m    434\u001B[0m                                 n_wait\u001B[38;5;241m=\u001B[39mn_wait)\n",
      "\u001B[0;31mTypeError\u001B[0m: HalfSpaceTrees.__init__() got an unexpected keyword argument 'n_features'"
     ]
    }
   ],
   "source": [
    "func.run_comparison(stream=stream, stream_n_features=stream.n_features, window = window, \n",
    "                             estimators = n_estimator, anomaly = anomaly_threshold, drift_rate = drift_rate, \n",
    "                             result_folder=test_name, max_sample=max_sample, n_wait=n_wait, metrics=metrics)"
   ]
  },
  {
   "cell_type": "code",
   "execution_count": null,
   "metadata": {},
   "outputs": [],
   "source": []
  }
 ],
 "metadata": {
  "kernelspec": {
   "display_name": "Python 3",
   "language": "python",
   "name": "python3"
  },
  "language_info": {
   "codemirror_mode": {
    "name": "ipython",
    "version": 3
   },
   "file_extension": ".py",
   "mimetype": "text/x-python",
   "name": "python",
   "nbconvert_exporter": "python",
   "pygments_lexer": "ipython3",
   "version": "3.7.4"
  }
 },
 "nbformat": 4,
 "nbformat_minor": 2
}